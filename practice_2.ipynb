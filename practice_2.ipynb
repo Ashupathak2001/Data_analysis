{
 "cells": [
  {
   "cell_type": "code",
   "execution_count": 1,
   "id": "0b96e02e",
   "metadata": {},
   "outputs": [],
   "source": [
    "import pandas as pd"
   ]
  },
  {
   "cell_type": "code",
   "execution_count": 2,
   "id": "787c16a4",
   "metadata": {},
   "outputs": [],
   "source": [
    "df=pd.read_csv(\"SBIN_Data.csv\")"
   ]
  },
  {
   "cell_type": "code",
   "execution_count": 3,
   "id": "5fc0b369",
   "metadata": {},
   "outputs": [
    {
     "data": {
      "text/html": [
       "<div>\n",
       "<style scoped>\n",
       "    .dataframe tbody tr th:only-of-type {\n",
       "        vertical-align: middle;\n",
       "    }\n",
       "\n",
       "    .dataframe tbody tr th {\n",
       "        vertical-align: top;\n",
       "    }\n",
       "\n",
       "    .dataframe thead th {\n",
       "        text-align: right;\n",
       "    }\n",
       "</style>\n",
       "<table border=\"1\" class=\"dataframe\">\n",
       "  <thead>\n",
       "    <tr style=\"text-align: right;\">\n",
       "      <th></th>\n",
       "      <th>Date</th>\n",
       "      <th>Open</th>\n",
       "      <th>High</th>\n",
       "      <th>Low</th>\n",
       "      <th>Close</th>\n",
       "      <th>Volume</th>\n",
       "      <th>Time</th>\n",
       "    </tr>\n",
       "  </thead>\n",
       "  <tbody>\n",
       "    <tr>\n",
       "      <th>0</th>\n",
       "      <td>01-01-2024</td>\n",
       "      <td>642.20</td>\n",
       "      <td>642.70</td>\n",
       "      <td>641.00</td>\n",
       "      <td>641.95</td>\n",
       "      <td>89481</td>\n",
       "      <td>09:15:00</td>\n",
       "    </tr>\n",
       "    <tr>\n",
       "      <th>1</th>\n",
       "      <td>01-01-2024</td>\n",
       "      <td>641.95</td>\n",
       "      <td>642.85</td>\n",
       "      <td>641.95</td>\n",
       "      <td>642.45</td>\n",
       "      <td>48965</td>\n",
       "      <td>09:16:00</td>\n",
       "    </tr>\n",
       "    <tr>\n",
       "      <th>2</th>\n",
       "      <td>01-01-2024</td>\n",
       "      <td>642.70</td>\n",
       "      <td>644.00</td>\n",
       "      <td>642.70</td>\n",
       "      <td>643.50</td>\n",
       "      <td>65729</td>\n",
       "      <td>09:17:00</td>\n",
       "    </tr>\n",
       "    <tr>\n",
       "      <th>3</th>\n",
       "      <td>01-01-2024</td>\n",
       "      <td>643.90</td>\n",
       "      <td>644.55</td>\n",
       "      <td>643.30</td>\n",
       "      <td>643.40</td>\n",
       "      <td>47909</td>\n",
       "      <td>09:18:00</td>\n",
       "    </tr>\n",
       "    <tr>\n",
       "      <th>4</th>\n",
       "      <td>01-01-2024</td>\n",
       "      <td>643.70</td>\n",
       "      <td>644.10</td>\n",
       "      <td>643.45</td>\n",
       "      <td>643.75</td>\n",
       "      <td>27645</td>\n",
       "      <td>09:19:00</td>\n",
       "    </tr>\n",
       "    <tr>\n",
       "      <th>...</th>\n",
       "      <td>...</td>\n",
       "      <td>...</td>\n",
       "      <td>...</td>\n",
       "      <td>...</td>\n",
       "      <td>...</td>\n",
       "      <td>...</td>\n",
       "      <td>...</td>\n",
       "    </tr>\n",
       "    <tr>\n",
       "      <th>8245</th>\n",
       "      <td>31-01-2024</td>\n",
       "      <td>642.90</td>\n",
       "      <td>642.90</td>\n",
       "      <td>642.50</td>\n",
       "      <td>642.80</td>\n",
       "      <td>161605</td>\n",
       "      <td>15:25:00</td>\n",
       "    </tr>\n",
       "    <tr>\n",
       "      <th>8246</th>\n",
       "      <td>31-01-2024</td>\n",
       "      <td>642.90</td>\n",
       "      <td>642.95</td>\n",
       "      <td>642.50</td>\n",
       "      <td>642.90</td>\n",
       "      <td>143774</td>\n",
       "      <td>15:26:00</td>\n",
       "    </tr>\n",
       "    <tr>\n",
       "      <th>8247</th>\n",
       "      <td>31-01-2024</td>\n",
       "      <td>642.95</td>\n",
       "      <td>643.05</td>\n",
       "      <td>642.45</td>\n",
       "      <td>642.50</td>\n",
       "      <td>166278</td>\n",
       "      <td>15:27:00</td>\n",
       "    </tr>\n",
       "    <tr>\n",
       "      <th>8248</th>\n",
       "      <td>31-01-2024</td>\n",
       "      <td>642.50</td>\n",
       "      <td>642.65</td>\n",
       "      <td>641.40</td>\n",
       "      <td>641.70</td>\n",
       "      <td>138018</td>\n",
       "      <td>15:28:00</td>\n",
       "    </tr>\n",
       "    <tr>\n",
       "      <th>8249</th>\n",
       "      <td>31-01-2024</td>\n",
       "      <td>641.70</td>\n",
       "      <td>641.80</td>\n",
       "      <td>641.00</td>\n",
       "      <td>641.55</td>\n",
       "      <td>54342</td>\n",
       "      <td>15:29:00</td>\n",
       "    </tr>\n",
       "  </tbody>\n",
       "</table>\n",
       "<p>8250 rows × 7 columns</p>\n",
       "</div>"
      ],
      "text/plain": [
       "            Date    Open    High     Low   Close  Volume      Time\n",
       "0     01-01-2024  642.20  642.70  641.00  641.95   89481  09:15:00\n",
       "1     01-01-2024  641.95  642.85  641.95  642.45   48965  09:16:00\n",
       "2     01-01-2024  642.70  644.00  642.70  643.50   65729  09:17:00\n",
       "3     01-01-2024  643.90  644.55  643.30  643.40   47909  09:18:00\n",
       "4     01-01-2024  643.70  644.10  643.45  643.75   27645  09:19:00\n",
       "...          ...     ...     ...     ...     ...     ...       ...\n",
       "8245  31-01-2024  642.90  642.90  642.50  642.80  161605  15:25:00\n",
       "8246  31-01-2024  642.90  642.95  642.50  642.90  143774  15:26:00\n",
       "8247  31-01-2024  642.95  643.05  642.45  642.50  166278  15:27:00\n",
       "8248  31-01-2024  642.50  642.65  641.40  641.70  138018  15:28:00\n",
       "8249  31-01-2024  641.70  641.80  641.00  641.55   54342  15:29:00\n",
       "\n",
       "[8250 rows x 7 columns]"
      ]
     },
     "execution_count": 3,
     "metadata": {},
     "output_type": "execute_result"
    }
   ],
   "source": [
    "df"
   ]
  },
  {
   "cell_type": "code",
   "execution_count": 4,
   "id": "a078b4ac",
   "metadata": {},
   "outputs": [
    {
     "data": {
      "text/plain": [
       "Date      0\n",
       "Open      0\n",
       "High      0\n",
       "Low       0\n",
       "Close     0\n",
       "Volume    0\n",
       "Time      0\n",
       "dtype: int64"
      ]
     },
     "execution_count": 4,
     "metadata": {},
     "output_type": "execute_result"
    }
   ],
   "source": [
    "df.isnull().sum()"
   ]
  },
  {
   "cell_type": "code",
   "execution_count": 5,
   "id": "5737a3a5",
   "metadata": {},
   "outputs": [],
   "source": [
    "df['Time'] = pd.to_datetime(df['Time'])"
   ]
  },
  {
   "cell_type": "code",
   "execution_count": 6,
   "id": "a5834544",
   "metadata": {},
   "outputs": [],
   "source": [
    "grouped = df.groupby(df['Time'].dt.date)"
   ]
  },
  {
   "cell_type": "code",
   "execution_count": 7,
   "id": "0531b762",
   "metadata": {},
   "outputs": [],
   "source": [
    "def calculate_rank(group):\n",
    "    # Calculate the rank of volume for each time\n",
    "    group['rank'] = group['Volume'].rank(ascending=False)\n",
    "    return group"
   ]
  },
  {
   "cell_type": "code",
   "execution_count": 8,
   "id": "bcf79baf",
   "metadata": {},
   "outputs": [
    {
     "name": "stderr",
     "output_type": "stream",
     "text": [
      "C:\\Users\\ashup\\AppData\\Local\\Temp\\ipykernel_20344\\3539868079.py:1: FutureWarning: Not prepending group keys to the result index of transform-like apply. In the future, the group keys will be included in the index, regardless of whether the applied function returns a like-indexed object.\n",
      "To preserve the previous behavior, use\n",
      "\n",
      "\t>>> .groupby(..., group_keys=False)\n",
      "\n",
      "To adopt the future behavior and silence this warning, use \n",
      "\n",
      "\t>>> .groupby(..., group_keys=True)\n",
      "  ranked_df = grouped.apply(calculate_rank)\n"
     ]
    }
   ],
   "source": [
    "ranked_df = grouped.apply(calculate_rank)"
   ]
  },
  {
   "cell_type": "code",
   "execution_count": null,
   "id": "c7ce68d9",
   "metadata": {},
   "outputs": [],
   "source": []
  }
 ],
 "metadata": {
  "kernelspec": {
   "display_name": "Python 3 (ipykernel)",
   "language": "python",
   "name": "python3"
  },
  "language_info": {
   "codemirror_mode": {
    "name": "ipython",
    "version": 3
   },
   "file_extension": ".py",
   "mimetype": "text/x-python",
   "name": "python",
   "nbconvert_exporter": "python",
   "pygments_lexer": "ipython3",
   "version": "3.10.9"
  }
 },
 "nbformat": 4,
 "nbformat_minor": 5
}
